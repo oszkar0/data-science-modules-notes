{
 "cells": [
  {
   "cell_type": "code",
   "execution_count": 1,
   "id": "9d3df8f1",
   "metadata": {},
   "outputs": [],
   "source": [
    "import numpy as np"
   ]
  },
  {
   "cell_type": "code",
   "execution_count": 2,
   "id": "0f46146a",
   "metadata": {},
   "outputs": [],
   "source": [
    "a = np.array([1, 2, 3])"
   ]
  },
  {
   "cell_type": "code",
   "execution_count": 3,
   "id": "f8228ed9",
   "metadata": {},
   "outputs": [],
   "source": [
    "b = np.array([[1.2, 5.4, 7.1], [3.2, 2.3, 1.3]])"
   ]
  },
  {
   "cell_type": "code",
   "execution_count": 4,
   "id": "2dea7019",
   "metadata": {},
   "outputs": [
    {
     "name": "stdout",
     "output_type": "stream",
     "text": [
      "[1 2 3]\n"
     ]
    }
   ],
   "source": [
    "print(a)"
   ]
  },
  {
   "cell_type": "code",
   "execution_count": 5,
   "id": "c0e481d3",
   "metadata": {},
   "outputs": [
    {
     "name": "stdout",
     "output_type": "stream",
     "text": [
      "[[1.2 5.4 7.1]\n",
      " [3.2 2.3 1.3]]\n"
     ]
    }
   ],
   "source": [
    "print(b)"
   ]
  },
  {
   "cell_type": "code",
   "execution_count": 6,
   "id": "98f64729",
   "metadata": {},
   "outputs": [],
   "source": [
    "#get dimension"
   ]
  },
  {
   "cell_type": "code",
   "execution_count": 7,
   "id": "5fbbcf0b",
   "metadata": {},
   "outputs": [
    {
     "name": "stdout",
     "output_type": "stream",
     "text": [
      "a-array dimension: 1, b-array dimension: 2\n"
     ]
    }
   ],
   "source": [
    "print(f\"a-array dimension: {a.ndim}, b-array dimension: {b.ndim}\")"
   ]
  },
  {
   "cell_type": "code",
   "execution_count": 8,
   "id": "7d291e6d",
   "metadata": {},
   "outputs": [],
   "source": [
    "#get shape"
   ]
  },
  {
   "cell_type": "code",
   "execution_count": 9,
   "id": "911301de",
   "metadata": {},
   "outputs": [
    {
     "name": "stdout",
     "output_type": "stream",
     "text": [
      "a-array shape: (3,), b-array shape: (2, 3)\n"
     ]
    }
   ],
   "source": [
    "print(f\"a-array shape: {a.shape}, b-array shape: {b.shape}\")"
   ]
  },
  {
   "cell_type": "code",
   "execution_count": 10,
   "id": "952d1f7d",
   "metadata": {},
   "outputs": [],
   "source": [
    "# get type and size"
   ]
  },
  {
   "cell_type": "code",
   "execution_count": 11,
   "id": "437b946c",
   "metadata": {},
   "outputs": [
    {
     "name": "stdout",
     "output_type": "stream",
     "text": [
      "int32\n"
     ]
    }
   ],
   "source": [
    "print(a.dtype)"
   ]
  },
  {
   "cell_type": "code",
   "execution_count": 12,
   "id": "b8e96da4",
   "metadata": {},
   "outputs": [],
   "source": [
    "a = np.array([1, 2, 3], dtype='int8')"
   ]
  },
  {
   "cell_type": "code",
   "execution_count": 13,
   "id": "f3716873",
   "metadata": {},
   "outputs": [
    {
     "name": "stdout",
     "output_type": "stream",
     "text": [
      "int8\n"
     ]
    }
   ],
   "source": [
    "print(a.dtype)"
   ]
  },
  {
   "cell_type": "code",
   "execution_count": 16,
   "id": "9460b1d1",
   "metadata": {},
   "outputs": [],
   "source": [
    "# get size (number of elements)"
   ]
  },
  {
   "cell_type": "code",
   "execution_count": 15,
   "id": "d629a0d5",
   "metadata": {},
   "outputs": [
    {
     "name": "stdout",
     "output_type": "stream",
     "text": [
      "3\n"
     ]
    }
   ],
   "source": [
    "print(a.size)"
   ]
  },
  {
   "cell_type": "code",
   "execution_count": 17,
   "id": "e095b71a",
   "metadata": {},
   "outputs": [],
   "source": [
    "# access elements"
   ]
  },
  {
   "cell_type": "code",
   "execution_count": 18,
   "id": "709f42bb",
   "metadata": {},
   "outputs": [
    {
     "name": "stdout",
     "output_type": "stream",
     "text": [
      "[1 2 3]\n"
     ]
    }
   ],
   "source": [
    "print(a)"
   ]
  },
  {
   "cell_type": "code",
   "execution_count": 19,
   "id": "62a73b8f",
   "metadata": {},
   "outputs": [
    {
     "name": "stdout",
     "output_type": "stream",
     "text": [
      "[[1.2 5.4 7.1]\n",
      " [3.2 2.3 1.3]]\n"
     ]
    }
   ],
   "source": [
    "print(b)"
   ]
  },
  {
   "cell_type": "code",
   "execution_count": 20,
   "id": "8bb11da6",
   "metadata": {},
   "outputs": [
    {
     "name": "stdout",
     "output_type": "stream",
     "text": [
      "1.3\n",
      "1.3\n"
     ]
    }
   ],
   "source": [
    "print(b[1, 2])\n",
    "print(b[1][2])"
   ]
  },
  {
   "cell_type": "code",
   "execution_count": 24,
   "id": "556ec5fa",
   "metadata": {},
   "outputs": [],
   "source": [
    "# get last element from every row"
   ]
  },
  {
   "cell_type": "code",
   "execution_count": 23,
   "id": "fed44ef2",
   "metadata": {},
   "outputs": [
    {
     "name": "stdout",
     "output_type": "stream",
     "text": [
      "[7.1 1.3]\n"
     ]
    }
   ],
   "source": [
    "print(b[:, -1])"
   ]
  },
  {
   "cell_type": "code",
   "execution_count": 25,
   "id": "5ff6639c",
   "metadata": {},
   "outputs": [],
   "source": [
    "# get specific row"
   ]
  },
  {
   "cell_type": "code",
   "execution_count": 22,
   "id": "bb8fd352",
   "metadata": {},
   "outputs": [
    {
     "name": "stdout",
     "output_type": "stream",
     "text": [
      "[1.2 5.4 7.1]\n"
     ]
    }
   ],
   "source": [
    "print(b[0, :]) "
   ]
  },
  {
   "cell_type": "code",
   "execution_count": 27,
   "id": "4b74586c",
   "metadata": {},
   "outputs": [],
   "source": [
    "b[0, 2] = 3.14 "
   ]
  },
  {
   "cell_type": "code",
   "execution_count": 28,
   "id": "2ab96f66",
   "metadata": {},
   "outputs": [
    {
     "name": "stdout",
     "output_type": "stream",
     "text": [
      "[[1.2  5.4  3.14]\n",
      " [3.2  2.3  1.3 ]]\n"
     ]
    }
   ],
   "source": [
    "print(b)"
   ]
  },
  {
   "cell_type": "code",
   "execution_count": 30,
   "id": "f13993e3",
   "metadata": {},
   "outputs": [
    {
     "data": {
      "text/plain": [
       "array([[0., 0., 0.],\n",
       "       [0., 0., 0.]])"
      ]
     },
     "execution_count": 30,
     "metadata": {},
     "output_type": "execute_result"
    }
   ],
   "source": [
    "# initialize all zeros matrix\n",
    "np.zeros((2, 3)) # shape inside brackets"
   ]
  },
  {
   "cell_type": "code",
   "execution_count": 31,
   "id": "2f305bbb",
   "metadata": {},
   "outputs": [
    {
     "data": {
      "text/plain": [
       "array([[[1., 1., 1.],\n",
       "        [1., 1., 1.],\n",
       "        [1., 1., 1.]],\n",
       "\n",
       "       [[1., 1., 1.],\n",
       "        [1., 1., 1.],\n",
       "        [1., 1., 1.]],\n",
       "\n",
       "       [[1., 1., 1.],\n",
       "        [1., 1., 1.],\n",
       "        [1., 1., 1.]]])"
      ]
     },
     "execution_count": 31,
     "metadata": {},
     "output_type": "execute_result"
    }
   ],
   "source": [
    "# initialize all ones matrix\n",
    "np.ones((3, 3, 3))"
   ]
  },
  {
   "cell_type": "code",
   "execution_count": 32,
   "id": "80fafd3a",
   "metadata": {},
   "outputs": [
    {
     "data": {
      "text/plain": [
       "array([[0.99, 0.99],\n",
       "       [0.99, 0.99]])"
      ]
     },
     "execution_count": 32,
     "metadata": {},
     "output_type": "execute_result"
    }
   ],
   "source": [
    "# intialize matrix with specific number \n",
    "np.full((2, 2), 0.99)"
   ]
  },
  {
   "cell_type": "code",
   "execution_count": 34,
   "id": "c4222b26",
   "metadata": {},
   "outputs": [
    {
     "data": {
      "text/plain": [
       "array([[0.13186746, 0.85689512],\n",
       "       [0.79053316, 0.95254777],\n",
       "       [0.23242439, 0.44211402],\n",
       "       [0.73311145, 0.75289983]])"
      ]
     },
     "execution_count": 34,
     "metadata": {},
     "output_type": "execute_result"
    }
   ],
   "source": [
    "# initialize matrix with random numbers\n",
    "np.random.rand(4, 2) # not a tupple with shapes, nut rows, columns.."
   ]
  },
  {
   "cell_type": "code",
   "execution_count": 36,
   "id": "3e490cda",
   "metadata": {},
   "outputs": [
    {
     "data": {
      "text/plain": [
       "array([[8, 6],\n",
       "       [7, 8]])"
      ]
     },
     "execution_count": 36,
     "metadata": {},
     "output_type": "execute_result"
    }
   ],
   "source": [
    "np.random.randint(low=4, high=10, size=(2, 2))"
   ]
  },
  {
   "cell_type": "code",
   "execution_count": 37,
   "id": "d8758fa6",
   "metadata": {},
   "outputs": [
    {
     "data": {
      "text/plain": [
       "array([[1., 0., 0.],\n",
       "       [0., 1., 0.],\n",
       "       [0., 0., 1.]])"
      ]
     },
     "execution_count": 37,
     "metadata": {},
     "output_type": "execute_result"
    }
   ],
   "source": [
    "# identity matrix \n",
    "np.identity(3)"
   ]
  },
  {
   "cell_type": "code",
   "execution_count": 40,
   "id": "f106c83c",
   "metadata": {},
   "outputs": [
    {
     "name": "stdout",
     "output_type": "stream",
     "text": [
      "[1 1 1 2 2 2 7 7 7]\n"
     ]
    }
   ],
   "source": [
    "# repeat an array\n",
    "arr = np.array([1, 2, 7])\n",
    "repeated = np.repeat(arr, repeats=3, axis=0)\n",
    "print(repeated)"
   ]
  },
  {
   "cell_type": "code",
   "execution_count": 41,
   "id": "f64f9bd4",
   "metadata": {},
   "outputs": [
    {
     "name": "stdout",
     "output_type": "stream",
     "text": [
      "[[1 2 7]\n",
      " [1 2 7]\n",
      " [1 2 7]]\n"
     ]
    }
   ],
   "source": [
    "arr = np.array([[1, 2, 7]])\n",
    "repeated = np.repeat(arr, repeats=3, axis=0)\n",
    "print(repeated)"
   ]
  },
  {
   "cell_type": "code",
   "execution_count": 44,
   "id": "96e982ff",
   "metadata": {},
   "outputs": [
    {
     "name": "stdout",
     "output_type": "stream",
     "text": [
      "[1 1 1 2 2 2 7 7 7]\n"
     ]
    }
   ],
   "source": [
    "arr = np.array([[1, 2, 7]])\n",
    "repeated = np.repeat(arr, repeats=3)\n",
    "print(repeated)"
   ]
  },
  {
   "cell_type": "code",
   "execution_count": 45,
   "id": "55fafec2",
   "metadata": {},
   "outputs": [],
   "source": [
    "# Mathematics"
   ]
  },
  {
   "cell_type": "code",
   "execution_count": 46,
   "id": "7a609699",
   "metadata": {},
   "outputs": [],
   "source": [
    "a = np.array([1, 2, 3, 4])"
   ]
  },
  {
   "cell_type": "code",
   "execution_count": 47,
   "id": "cc703987",
   "metadata": {},
   "outputs": [
    {
     "data": {
      "text/plain": [
       "array([-1,  0,  1,  2])"
      ]
     },
     "execution_count": 47,
     "metadata": {},
     "output_type": "execute_result"
    }
   ],
   "source": [
    "a - 2"
   ]
  },
  {
   "cell_type": "code",
   "execution_count": 48,
   "id": "ff7582b4",
   "metadata": {},
   "outputs": [
    {
     "data": {
      "text/plain": [
       "array([3, 4, 5, 6])"
      ]
     },
     "execution_count": 48,
     "metadata": {},
     "output_type": "execute_result"
    }
   ],
   "source": [
    "a + 2"
   ]
  },
  {
   "cell_type": "code",
   "execution_count": 49,
   "id": "ddcef959",
   "metadata": {},
   "outputs": [
    {
     "data": {
      "text/plain": [
       "array([2, 4, 6, 8])"
      ]
     },
     "execution_count": 49,
     "metadata": {},
     "output_type": "execute_result"
    }
   ],
   "source": [
    "a * 2"
   ]
  },
  {
   "cell_type": "code",
   "execution_count": 50,
   "id": "161359ed",
   "metadata": {},
   "outputs": [],
   "source": [
    "b = np.array([0, -10, 2, 40])"
   ]
  },
  {
   "cell_type": "code",
   "execution_count": 51,
   "id": "aa5bbca8",
   "metadata": {},
   "outputs": [
    {
     "data": {
      "text/plain": [
       "array([  0, -20,   6, 160])"
      ]
     },
     "execution_count": 51,
     "metadata": {},
     "output_type": "execute_result"
    }
   ],
   "source": [
    "a * b"
   ]
  },
  {
   "cell_type": "code",
   "execution_count": 52,
   "id": "ffd0795e",
   "metadata": {},
   "outputs": [
    {
     "data": {
      "text/plain": [
       "array([ 0.84147098,  0.90929743,  0.14112001, -0.7568025 ])"
      ]
     },
     "execution_count": 52,
     "metadata": {},
     "output_type": "execute_result"
    }
   ],
   "source": [
    "np.sin(a)"
   ]
  },
  {
   "cell_type": "code",
   "execution_count": 53,
   "id": "1e7915af",
   "metadata": {},
   "outputs": [],
   "source": [
    "# Linear algebra"
   ]
  },
  {
   "cell_type": "code",
   "execution_count": 54,
   "id": "c35d4df2",
   "metadata": {},
   "outputs": [],
   "source": [
    "a = np.ones((2, 3))\n",
    "b = np.full((3, 2), 5)"
   ]
  },
  {
   "cell_type": "code",
   "execution_count": 55,
   "id": "74f7533e",
   "metadata": {},
   "outputs": [
    {
     "data": {
      "text/plain": [
       "array([[15., 15.],\n",
       "       [15., 15.]])"
      ]
     },
     "execution_count": 55,
     "metadata": {},
     "output_type": "execute_result"
    }
   ],
   "source": [
    "np.matmul(a, b)"
   ]
  },
  {
   "cell_type": "code",
   "execution_count": 56,
   "id": "9edc97c5",
   "metadata": {},
   "outputs": [],
   "source": [
    "# statistics"
   ]
  },
  {
   "cell_type": "code",
   "execution_count": 57,
   "id": "e4931549",
   "metadata": {},
   "outputs": [],
   "source": [
    "rand = np.random.rand(4, 2)"
   ]
  },
  {
   "cell_type": "code",
   "execution_count": 58,
   "id": "a7db74f7",
   "metadata": {},
   "outputs": [
    {
     "name": "stdout",
     "output_type": "stream",
     "text": [
      "[[0.69270919 0.20432018]\n",
      " [0.82594834 0.93719061]\n",
      " [0.81889776 0.16898289]\n",
      " [0.5499406  0.87394656]]\n"
     ]
    }
   ],
   "source": [
    "print(rand)"
   ]
  },
  {
   "cell_type": "code",
   "execution_count": 59,
   "id": "323932e7",
   "metadata": {},
   "outputs": [
    {
     "data": {
      "text/plain": [
       "array([0.5499406 , 0.16898289])"
      ]
     },
     "execution_count": 59,
     "metadata": {},
     "output_type": "execute_result"
    }
   ],
   "source": [
    "np.min(rand, axis=0)"
   ]
  },
  {
   "cell_type": "code",
   "execution_count": 60,
   "id": "b041ffa5",
   "metadata": {},
   "outputs": [
    {
     "data": {
      "text/plain": [
       "array([0.20432018, 0.82594834, 0.16898289, 0.5499406 ])"
      ]
     },
     "execution_count": 60,
     "metadata": {},
     "output_type": "execute_result"
    }
   ],
   "source": [
    "np.min(rand, axis=1)"
   ]
  },
  {
   "cell_type": "code",
   "execution_count": 61,
   "id": "5652a181",
   "metadata": {},
   "outputs": [
    {
     "data": {
      "text/plain": [
       "array([2.88749588, 2.18444024])"
      ]
     },
     "execution_count": 61,
     "metadata": {},
     "output_type": "execute_result"
    }
   ],
   "source": [
    "np.sum(rand, axis=0)"
   ]
  },
  {
   "cell_type": "code",
   "execution_count": 62,
   "id": "f9dcaac2",
   "metadata": {},
   "outputs": [],
   "source": [
    "# reorganizing arrays"
   ]
  },
  {
   "cell_type": "code",
   "execution_count": 63,
   "id": "33aeca1d",
   "metadata": {},
   "outputs": [
    {
     "name": "stdout",
     "output_type": "stream",
     "text": [
      "[[1 2 3 4]\n",
      " [3 7 8 9]]\n"
     ]
    }
   ],
   "source": [
    "before = np.array([[1, 2, 3, 4], [3, 7, 8, 9]])\n",
    "print(before)"
   ]
  },
  {
   "cell_type": "code",
   "execution_count": 64,
   "id": "abf09e8a",
   "metadata": {},
   "outputs": [
    {
     "name": "stdout",
     "output_type": "stream",
     "text": [
      "[[1]\n",
      " [2]\n",
      " [3]\n",
      " [4]\n",
      " [3]\n",
      " [7]\n",
      " [8]\n",
      " [9]]\n"
     ]
    }
   ],
   "source": [
    "after = before.reshape(8, 1)\n",
    "print(after)"
   ]
  },
  {
   "cell_type": "code",
   "execution_count": null,
   "id": "76cddd20",
   "metadata": {},
   "outputs": [],
   "source": []
  }
 ],
 "metadata": {
  "kernelspec": {
   "display_name": "Python 3 (ipykernel)",
   "language": "python",
   "name": "python3"
  },
  "language_info": {
   "codemirror_mode": {
    "name": "ipython",
    "version": 3
   },
   "file_extension": ".py",
   "mimetype": "text/x-python",
   "name": "python",
   "nbconvert_exporter": "python",
   "pygments_lexer": "ipython3",
   "version": "3.11.3"
  }
 },
 "nbformat": 4,
 "nbformat_minor": 5
}
